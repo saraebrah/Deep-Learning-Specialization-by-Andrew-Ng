{
  "cells": [
    {
      "cell_type": "markdown",
      "metadata": {
        "id": "KvL1C8ruyDph"
      },
      "source": [
        "## **One Hidden Layer NN**"
      ]
    },
    {
      "cell_type": "code",
      "execution_count": 8,
      "metadata": {
        "id": "8VUD2ydlqsoQ"
      },
      "outputs": [],
      "source": [
        "def layer_sizes(X, Y):\n",
        "  \"\"\"\n",
        "  Arguments:\n",
        "  X -- input dataset of shape (input size, number of examples)\n",
        "  Y -- labels of shape (output size, number of examples)\n",
        "\n",
        "  Returns:\n",
        "  n_x -- the size of the input layer\n",
        "  n_h -- the size of the hidden layer\n",
        "  n_y -- the size of the output layer\n",
        "  \"\"\"\n",
        "\n",
        "  n_x = X.shape[0]\n",
        "  n_h = 4\n",
        "  n_y = Y.shape[0]\n",
        "\n",
        "  return (n_x, n_h, n_y)"
      ]
    },
    {
      "cell_type": "code",
      "execution_count": 9,
      "metadata": {
        "id": "lbJUoDbYuc8t"
      },
      "outputs": [],
      "source": [
        "def initialize_parameters(n_x, n_h, n_y):\n",
        "  np.random.seed(2)\n",
        "\n",
        "  W1 = np.random.randn(n_h, n_x)\n",
        "  b1 = np.zeros((n_h,1))\n",
        "  W2 = np.random.randn(n_y,n_h)\n",
        "  b2 = np.zeros((n_y,1))\n",
        "\n",
        "  parameters = {\"W1\": W1,\"b1\": b1,\"W2\": W2,\"b2\": b2}\n",
        "\n",
        "  return parameters"
      ]
    },
    {
      "cell_type": "code",
      "execution_count": 10,
      "metadata": {
        "id": "M3XZxvNEvFrM"
      },
      "outputs": [],
      "source": [
        "def forward_propagation(X, parameters):\n",
        "\n",
        "  W1 = parameters[\"W1\"]\n",
        "  b1 = parameters[\"b1\"]\n",
        "  W2 = parameters[\"W2\"]\n",
        "  b2 = parameters[\"b2\"]\n",
        "\n",
        "  Z1 = np.dot(W1,X) + b1\n",
        "  A1 = np.tanh(Z1)\n",
        "  Z2 = np.dot(W2,A1) + b2\n",
        "  A2 = sigmoid(Z2)\n",
        "\n",
        "  assert(A2.shape == (1, X.shape[1]))\n",
        "\n",
        "  cache = {\"Z1\": Z1,\"A1\": A1,\"Z2\": Z2,\"A2\": A2}\n",
        "\n",
        "  return A2, cache"
      ]
    },
    {
      "cell_type": "code",
      "execution_count": 11,
      "metadata": {
        "id": "2fGGbAdLvYGY"
      },
      "outputs": [],
      "source": [
        "def compute_cost(A2, Y, parameters):\n",
        "\n",
        "  m = Y.shape[1]\n",
        "\n",
        "  logprobs = np.multiply(np.log(A2),Y) + np.multiply(np.log(1 - A2),1 - Y)\n",
        "  cost = -1/m * np.sum(logprobs)\n",
        "\n",
        "  cost = float(np.squeeze(cost))\n",
        "\n",
        "  assert(isinstance(cost, float))\n",
        "\n",
        "  return cost"
      ]
    },
    {
      "cell_type": "code",
      "execution_count": 12,
      "metadata": {
        "id": "Hq4eobH6v0SM"
      },
      "outputs": [],
      "source": [
        "def backward_propagation(parameters, cache, X, Y):\n",
        "\n",
        "  m = X.shape[1]\n",
        "\n",
        "  W1 = parameters[\"W1\"]\n",
        "  W2 = parameters[\"W2\"]\n",
        "\n",
        "  A1 = cache[\"A1\"]\n",
        "  A2 = cache[\"A2\"]\n",
        "\n",
        "  dZ2 = A2 - Y\n",
        "  dW2 = 1/m * (np.dot(dZ2, A1.T))\n",
        "  db2 = 1/m * (np.sum(dZ2, axis = 1, keepdims =  True))\n",
        "  dZ1 = (np.dot(W2.T, dZ2)) * (1 - np.power(A1, 2))\n",
        "  dW1 = 1/m * (np.dot(dZ1,X.T))\n",
        "  db1 = 1/m * (np.sum(dZ1, axis = 1, keepdims =  True))\n",
        "\n",
        "  grads = {\"dW1\": dW1,\"db1\": db1,\"dW2\": dW2,\"db2\": db2}\n",
        "\n",
        "  return grads"
      ]
    },
    {
      "cell_type": "code",
      "execution_count": 13,
      "metadata": {
        "id": "sEy4TZZvwEPc"
      },
      "outputs": [],
      "source": [
        "def update_parameters(parameters, grads, learning_rate = 1.2):\n",
        "\n",
        "  W1 = parameters[\"W1\"]\n",
        "  b1 = parameters[\"b1\"]\n",
        "  W2 = parameters[\"W2\"]\n",
        "  b2 = parameters[\"b2\"]\n",
        "\n",
        "  dW1 = grads[\"dW1\"]\n",
        "  db1 = grads[\"db1\"]\n",
        "  dW2 = grads[\"dW2\"]\n",
        "  db2 = grads[\"db2\"]\n",
        "\n",
        "  W1 = W1 - learning_rate * dW1\n",
        "  b1 = b1 - learning_rate * db1\n",
        "  W2 = W2 - learning_rate * dW2\n",
        "  b2 = b2 - learning_rate * db2\n",
        "\n",
        "  parameters = {\"W1\": W1,\"b1\": b1,\"W2\": W2,\"b2\": b2}\n",
        "\n",
        "  return parameters"
      ]
    },
    {
      "cell_type": "code",
      "execution_count": 14,
      "metadata": {
        "id": "w6-D79rTwOJ4"
      },
      "outputs": [],
      "source": [
        "def nn_model(X, Y, n_h, num_iterations = 10000, print_cost=False):\n",
        "\n",
        "  np.random.seed(3)\n",
        "  n_x = layer_sizes(X, Y)[0]\n",
        "  n_y = layer_sizes(X, Y)[2]\n",
        "\n",
        "  parameters = initialize_parameters(n_x, n_h, n_y)\n",
        "\n",
        "  for i in range(0, num_iterations):\n",
        "\n",
        "    A2, cache =  forward_propagation(X, parameters)\n",
        "\n",
        "    cost = compute_cost(A2, Y, parameters)\n",
        "\n",
        "    grads =  backward_propagation(parameters, cache, X, Y)\n",
        "\n",
        "    parameters = update_parameters(parameters, grads, learning_rate = 1.2)\n",
        "\n",
        "    if print_cost and i % 1000 == 0:\n",
        "      print (\"Cost after iteration %i: %f\" %(i, cost))\n",
        "\n",
        "  return parameters"
      ]
    },
    {
      "cell_type": "code",
      "execution_count": 15,
      "metadata": {
        "id": "RdSnGuKYwwwX"
      },
      "outputs": [],
      "source": [
        "def predict(parameters, X):\n",
        "\n",
        "  A2, cache = forward_propagation(X, parameters)\n",
        "  predictions = (A2 > 0.5)\n",
        "\n",
        "  return predictions"
      ]
    }
  ],
  "metadata": {
    "colab": {
      "collapsed_sections": [
        "VGw52zHsyP-x",
        "KvL1C8ruyDph"
      ],
      "provenance": [],
      "toc_visible": true
    },
    "kernelspec": {
      "display_name": "Python 3",
      "name": "python3"
    }
  },
  "nbformat": 4,
  "nbformat_minor": 0
}
