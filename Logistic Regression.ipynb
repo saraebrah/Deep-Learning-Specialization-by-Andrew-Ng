{
  "cells": [
    {
      "cell_type": "markdown",
      "metadata": {
        "id": "VGw52zHsyP-x"
      },
      "source": [
        "## **Logistic Regression**"
      ]
    },
    {
      "cell_type": "code",
      "execution_count": null,
      "metadata": {
        "id": "NXBUgz12VI94"
      },
      "outputs": [],
      "source": [
        "import numpy as np"
      ]
    },
    {
      "cell_type": "code",
      "execution_count": 2,
      "metadata": {
        "id": "x0ci3myyWBdr"
      },
      "outputs": [],
      "source": [
        "def sigmoid(x):\n",
        "  s = 1 / ( 1 + np.exp(-x))\n",
        "  return s"
      ]
    },
    {
      "cell_type": "code",
      "execution_count": 3,
      "metadata": {
        "id": "z81coVQTWUvv"
      },
      "outputs": [],
      "source": [
        "def initialize_with_zeros(dim):\n",
        "  w = np.zeros((dim,1))\n",
        "  b = 0\n",
        "  return w,b"
      ]
    },
    {
      "cell_type": "code",
      "execution_count": 4,
      "metadata": {
        "id": "ZMPFq9DzWYmX"
      },
      "outputs": [],
      "source": [
        "def propagate(w, b, X, Y):\n",
        "  m = X.shape[1]\n",
        "  A = sigmoid(np.dot(w.T,X) + b)\n",
        "  J = -1/m * (np.sum(Y * np.log(A) + (1 - Y) * np.log(1 - A)))\n",
        "\n",
        "  dw = 1/m * (np.dot(X , (A - Y).T))\n",
        "  db = 1/m * (np.sum(A - Y))\n",
        "\n",
        "  assert(dw.shape == w.shape)\n",
        "  assert(db.dtype == float)\n",
        "  J = np.squeeze(J)\n",
        "  assert(J.shape == ())\n",
        "\n",
        "  grads = {\"dw\" : dw, \"db\" : db}\n",
        "\n",
        "  return grads,J"
      ]
    },
    {
      "cell_type": "code",
      "execution_count": 5,
      "metadata": {
        "id": "4VauyfrWZZ9O"
      },
      "outputs": [],
      "source": [
        "def optimize(w, b, X, Y, num_iterations, learning_rate, print_cost = False):\n",
        "  costs = []\n",
        "\n",
        "  for i in range(num_iterations):\n",
        "\n",
        "    grads, J = propagate(w, b, X, Y)\n",
        "    dw = grads[\"dw\"]\n",
        "    db = grads[\"db\"]\n",
        "\n",
        "    w = w - learning_rate * dw\n",
        "    b = b - learning_rate * db\n",
        "\n",
        "    if i % 100 == 0:\n",
        "      costs.append(J)\n",
        "\n",
        "    #Print the cost every 100 training iterations\n",
        "    if print_cost and i % 100 == 0:\n",
        "      print (\"Cost after iteration %i: %f\" %(i, J))\n",
        "\n",
        "\n",
        "  params = {\"w\": w, \"b\": b}\n",
        "\n",
        "  grads = {\"dw\": dw, \"db\": db}\n",
        "\n",
        "  return params, grads, costs"
      ]
    },
    {
      "cell_type": "code",
      "execution_count": 6,
      "metadata": {
        "id": "RBz0v13ke-N2"
      },
      "outputs": [],
      "source": [
        "def predict(w, b, X):\n",
        "  m = X.shape[1]\n",
        "  Y_prediction = np.zeros((1,m))\n",
        "  w = w.reshape(X.shape[0], 1)\n",
        "  A = sigmoid(np.dot(w.T,X) + b)\n",
        "\n",
        "\n",
        "  for i in range(A.shape[1]):\n",
        "    if A[0][i] <= 0.5:\n",
        "      Y_prediction[0][i] = 0\n",
        "    else:\n",
        "      Y_prediction[0][i] = 1\n",
        "\n",
        "\n",
        "  assert(Y_prediction.shape == (1, m))\n",
        "\n",
        "  return Y_prediction"
      ]
    },
    {
      "cell_type": "code",
      "execution_count": 7,
      "metadata": {
        "id": "cZZtVLU6gf6z"
      },
      "outputs": [],
      "source": [
        "def model(X_train, Y_train, X_test, Y_test, num_iterations = 2000, learning_rate = 0.5, print_cost = False):\n",
        "\n",
        "  w, b = initialize_with_zeros(X_train.shape[0])\n",
        "\n",
        "  parameters, grads, costs = optimize(w, b, X_train, Y_train, num_iterations, learning_rate, print_cost)\n",
        "\n",
        "  w = parameters[\"w\"]\n",
        "  b = parameters[\"b\"]\n",
        "\n",
        "  Y_prediction_test = predict(w, b, X_test)\n",
        "  Y_prediction_train = predict(w, b, X_train)\n",
        "\n",
        "  print(\"train accuracy: {} %\".format(100 - np.mean(np.abs(Y_prediction_train - Y_train)) * 100))\n",
        "  print(\"test accuracy: {} %\".format(100 - np.mean(np.abs(Y_prediction_test - Y_test)) * 100))\n",
        "\n",
        "\n",
        "  d = {\"costs\": costs,\n",
        "      \"Y_prediction_test\": Y_prediction_test,\n",
        "      \"Y_prediction_train\" : Y_prediction_train,\n",
        "      \"w\" : w,\n",
        "      \"b\" : b,\n",
        "      \"learning_rate\" : learning_rate,\n",
        "      \"num_iterations\": num_iterations}\n",
        "\n",
        "  return d"
      ]
    }
  ],
  "metadata": {
    "colab": {
      "collapsed_sections": [
        "VGw52zHsyP-x",
        "KvL1C8ruyDph"
      ],
      "provenance": [],
      "toc_visible": true
    },
    "kernelspec": {
      "display_name": "Python 3",
      "name": "python3"
    }
  },
  "nbformat": 4,
  "nbformat_minor": 0
}
