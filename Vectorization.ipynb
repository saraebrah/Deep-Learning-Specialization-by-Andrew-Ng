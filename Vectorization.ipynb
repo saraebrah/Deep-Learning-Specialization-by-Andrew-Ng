{
  "nbformat": 4,
  "nbformat_minor": 0,
  "metadata": {
    "colab": {
      "provenance": [],
      "collapsed_sections": [
        "VGw52zHsyP-x",
        "KvL1C8ruyDph"
      ],
      "toc_visible": true
    },
    "kernelspec": {
      "name": "python3",
      "display_name": "Python 3"
    }
  },
  "cells": [
    {
      "cell_type": "code",
      "source": [
        "import time\n",
        "import numpy as np"
      ],
      "metadata": {
        "id": "I_YTxyGBXjBQ"
      },
      "execution_count": 18,
      "outputs": []
    },
    {
      "cell_type": "code",
      "source": [
        "x1 = [9, 2, 5, 0, 0, 7, 5, 0, 0, 0, 9, 2, 5, 0, 0]\n",
        "x2 = [9, 2, 2, 9, 0, 9, 2, 5, 0, 0, 9, 2, 5, 0, 0]\n",
        "W =  [2, 2, 2, 2, 2, 2, 2, 2, 2, 2, 2, 2, 2, 2, 2]\n",
        "\n",
        "### VECTORIZED DOT PRODUCT OF VECTORS ###\n",
        "tic = time.process_time()\n",
        "dot = np.dot(x1,x2)\n",
        "toc = time.process_time()\n",
        "print (\"dot = \" + str(dot) + \"\\n ----- Computation time = \" + str(1000 * (toc - tic)) + \"ms\")\n",
        "\n",
        "### VECTORIZED OUTER PRODUCT ###\n",
        "tic = time.process_time()\n",
        "outer = np.outer(x1,x2)\n",
        "toc = time.process_time()\n",
        "print (\"outer = \" + str(outer) + \"\\n ----- Computation time = \" + str(1000 * (toc - tic)) + \"ms\")\n",
        "\n",
        "### VECTORIZED ELEMENTWISE MULTIPLICATION ###\n",
        "tic = time.process_time()\n",
        "mul = np.multiply(x1,x2)\n",
        "toc = time.process_time()\n",
        "print (\"elementwise multiplication = \" + str(mul) + \"\\n ----- Computation time = \" + str(1000*(toc - tic)) + \"ms\")\n",
        "\n",
        "### VECTORIZED GENERAL DOT PRODUCT ###\n",
        "tic = time.process_time()\n",
        "dot = np.dot(x1,x2)\n",
        "toc = time.process_time()\n",
        "print (\"gdot = \" + str(dot) + \"\\n ----- Computation time = \" + str(1000 * (toc - tic)) + \"ms\")"
      ],
      "metadata": {
        "id": "1RdRrt1BfvS9"
      },
      "execution_count": null,
      "outputs": []
    },
    {
      "cell_type": "markdown",
      "metadata": {
        "id": "VGw52zHsyP-x"
      },
      "source": [
        "## **Logistic Regression**"
      ]
    },
    {
      "cell_type": "code",
      "metadata": {
        "id": "NXBUgz12VI94"
      },
      "source": [
        "import numpy as np"
      ],
      "execution_count": null,
      "outputs": []
    },
    {
      "cell_type": "code",
      "metadata": {
        "id": "x0ci3myyWBdr"
      },
      "source": [
        "def sigmoid(x):\n",
        "  s = 1 / ( 1 + np.exp(-x))\n",
        "  return s"
      ],
      "execution_count": 2,
      "outputs": []
    },
    {
      "cell_type": "code",
      "metadata": {
        "id": "z81coVQTWUvv"
      },
      "source": [
        "def initialize_with_zeros(dim):\n",
        "  w = np.zeros((dim,1))\n",
        "  b = 0\n",
        "  return w,b"
      ],
      "execution_count": 3,
      "outputs": []
    },
    {
      "cell_type": "code",
      "metadata": {
        "id": "ZMPFq9DzWYmX"
      },
      "source": [
        "def propagate(w, b, X, Y):\n",
        "  m = X.shape[1]\n",
        "  A = sigmoid(np.dot(w.T,X) + b)\n",
        "  J = -1/m * (np.sum(Y * np.log(A) + (1 - Y) * np.log(1 - A)))\n",
        "\n",
        "  dw = 1/m * (np.dot(X , (A - Y).T))\n",
        "  db = 1/m * (np.sum(A - Y))\n",
        "\n",
        "  assert(dw.shape == w.shape)\n",
        "  assert(db.dtype == float)\n",
        "  J = np.squeeze(J)\n",
        "  assert(J.shape == ())\n",
        "\n",
        "  grads = {\"dw\" : dw, \"db\" : db}\n",
        "\n",
        "  return grads,J"
      ],
      "execution_count": 4,
      "outputs": []
    },
    {
      "cell_type": "code",
      "metadata": {
        "id": "4VauyfrWZZ9O"
      },
      "source": [
        "def optimize(w, b, X, Y, num_iterations, learning_rate, print_cost = False):\n",
        "  costs = []\n",
        "\n",
        "  for i in range(num_iterations):\n",
        "\n",
        "    grads, J = propagate(w, b, X, Y)\n",
        "    dw = grads[\"dw\"]\n",
        "    db = grads[\"db\"]\n",
        "\n",
        "    w = w - learning_rate * dw\n",
        "    b = b - learning_rate * db\n",
        "\n",
        "    if i % 100 == 0:\n",
        "      costs.append(J)\n",
        "\n",
        "    #Print the cost every 100 training iterations\n",
        "    if print_cost and i % 100 == 0:\n",
        "      print (\"Cost after iteration %i: %f\" %(i, J))\n",
        "\n",
        "\n",
        "  params = {\"w\": w, \"b\": b}\n",
        "\n",
        "  grads = {\"dw\": dw, \"db\": db}\n",
        "\n",
        "  return params, grads, costs"
      ],
      "execution_count": 5,
      "outputs": []
    },
    {
      "cell_type": "code",
      "metadata": {
        "id": "RBz0v13ke-N2"
      },
      "source": [
        "def predict(w, b, X):\n",
        "  m = X.shape[1]\n",
        "  Y_prediction = np.zeros((1,m))\n",
        "  w = w.reshape(X.shape[0], 1)\n",
        "  A = sigmoid(np.dot(w.T,X) + b)\n",
        "\n",
        "\n",
        "  for i in range(A.shape[1]):\n",
        "    if A[0][i] <= 0.5:\n",
        "      Y_prediction[0][i] = 0\n",
        "    else:\n",
        "      Y_prediction[0][i] = 1\n",
        "\n",
        "\n",
        "  assert(Y_prediction.shape == (1, m))\n",
        "\n",
        "  return Y_prediction"
      ],
      "execution_count": 6,
      "outputs": []
    },
    {
      "cell_type": "code",
      "metadata": {
        "id": "cZZtVLU6gf6z"
      },
      "source": [
        "def model(X_train, Y_train, X_test, Y_test, num_iterations = 2000, learning_rate = 0.5, print_cost = False):\n",
        "\n",
        "  w, b = initialize_with_zeros(X_train.shape[0])\n",
        "\n",
        "  parameters, grads, costs = optimize(w, b, X_train, Y_train, num_iterations, learning_rate, print_cost)\n",
        "\n",
        "  w = parameters[\"w\"]\n",
        "  b = parameters[\"b\"]\n",
        "\n",
        "  Y_prediction_test = predict(w, b, X_test)\n",
        "  Y_prediction_train = predict(w, b, X_train)\n",
        "\n",
        "  print(\"train accuracy: {} %\".format(100 - np.mean(np.abs(Y_prediction_train - Y_train)) * 100))\n",
        "  print(\"test accuracy: {} %\".format(100 - np.mean(np.abs(Y_prediction_test - Y_test)) * 100))\n",
        "\n",
        "\n",
        "  d = {\"costs\": costs,\n",
        "      \"Y_prediction_test\": Y_prediction_test,\n",
        "      \"Y_prediction_train\" : Y_prediction_train,\n",
        "      \"w\" : w,\n",
        "      \"b\" : b,\n",
        "      \"learning_rate\" : learning_rate,\n",
        "      \"num_iterations\": num_iterations}\n",
        "\n",
        "  return d"
      ],
      "execution_count": 7,
      "outputs": []
    },
    {
      "cell_type": "markdown",
      "metadata": {
        "id": "KvL1C8ruyDph"
      },
      "source": [
        "## **One Hidden Layer NN**"
      ]
    },
    {
      "cell_type": "code",
      "metadata": {
        "id": "8VUD2ydlqsoQ"
      },
      "source": [
        "def layer_sizes(X, Y):\n",
        "  \"\"\"\n",
        "  Arguments:\n",
        "  X -- input dataset of shape (input size, number of examples)\n",
        "  Y -- labels of shape (output size, number of examples)\n",
        "\n",
        "  Returns:\n",
        "  n_x -- the size of the input layer\n",
        "  n_h -- the size of the hidden layer\n",
        "  n_y -- the size of the output layer\n",
        "  \"\"\"\n",
        "\n",
        "  n_x = X.shape[0]\n",
        "  n_h = 4\n",
        "  n_y = Y.shape[0]\n",
        "\n",
        "  return (n_x, n_h, n_y)"
      ],
      "execution_count": 8,
      "outputs": []
    },
    {
      "cell_type": "code",
      "metadata": {
        "id": "lbJUoDbYuc8t"
      },
      "source": [
        "def initialize_parameters(n_x, n_h, n_y):\n",
        "  np.random.seed(2)\n",
        "\n",
        "  W1 = np.random.randn(n_h, n_x)\n",
        "  b1 = np.zeros((n_h,1))\n",
        "  W2 = np.random.randn(n_y,n_h)\n",
        "  b2 = np.zeros((n_y,1))\n",
        "\n",
        "  parameters = {\"W1\": W1,\"b1\": b1,\"W2\": W2,\"b2\": b2}\n",
        "\n",
        "  return parameters"
      ],
      "execution_count": 9,
      "outputs": []
    },
    {
      "cell_type": "code",
      "metadata": {
        "id": "M3XZxvNEvFrM"
      },
      "source": [
        "def forward_propagation(X, parameters):\n",
        "\n",
        "  W1 = parameters[\"W1\"]\n",
        "  b1 = parameters[\"b1\"]\n",
        "  W2 = parameters[\"W2\"]\n",
        "  b2 = parameters[\"b2\"]\n",
        "\n",
        "  Z1 = np.dot(W1,X) + b1\n",
        "  A1 = np.tanh(Z1)\n",
        "  Z2 = np.dot(W2,A1) + b2\n",
        "  A2 = sigmoid(Z2)\n",
        "\n",
        "  assert(A2.shape == (1, X.shape[1]))\n",
        "\n",
        "  cache = {\"Z1\": Z1,\"A1\": A1,\"Z2\": Z2,\"A2\": A2}\n",
        "\n",
        "  return A2, cache"
      ],
      "execution_count": 10,
      "outputs": []
    },
    {
      "cell_type": "code",
      "metadata": {
        "id": "2fGGbAdLvYGY"
      },
      "source": [
        "def compute_cost(A2, Y, parameters):\n",
        "\n",
        "  m = Y.shape[1]\n",
        "\n",
        "  logprobs = np.multiply(np.log(A2),Y) + np.multiply(np.log(1 - A2),1 - Y)\n",
        "  cost = -1/m * np.sum(logprobs)\n",
        "\n",
        "  cost = float(np.squeeze(cost))\n",
        "\n",
        "  assert(isinstance(cost, float))\n",
        "\n",
        "  return cost"
      ],
      "execution_count": 11,
      "outputs": []
    },
    {
      "cell_type": "code",
      "metadata": {
        "id": "Hq4eobH6v0SM"
      },
      "source": [
        "def backward_propagation(parameters, cache, X, Y):\n",
        "\n",
        "  m = X.shape[1]\n",
        "\n",
        "  W1 = parameters[\"W1\"]\n",
        "  W2 = parameters[\"W2\"]\n",
        "\n",
        "  A1 = cache[\"A1\"]\n",
        "  A2 = cache[\"A2\"]\n",
        "\n",
        "  dZ2 = A2 - Y\n",
        "  dW2 = 1/m * (np.dot(dZ2, A1.T))\n",
        "  db2 = 1/m * (np.sum(dZ2, axis = 1, keepdims =  True))\n",
        "  dZ1 = (np.dot(W2.T, dZ2)) * (1 - np.power(A1, 2))\n",
        "  dW1 = 1/m * (np.dot(dZ1,X.T))\n",
        "  db1 = 1/m * (np.sum(dZ1, axis = 1, keepdims =  True))\n",
        "\n",
        "  grads = {\"dW1\": dW1,\"db1\": db1,\"dW2\": dW2,\"db2\": db2}\n",
        "\n",
        "  return grads"
      ],
      "execution_count": 12,
      "outputs": []
    },
    {
      "cell_type": "code",
      "metadata": {
        "id": "sEy4TZZvwEPc"
      },
      "source": [
        "def update_parameters(parameters, grads, learning_rate = 1.2):\n",
        "\n",
        "  W1 = parameters[\"W1\"]\n",
        "  b1 = parameters[\"b1\"]\n",
        "  W2 = parameters[\"W2\"]\n",
        "  b2 = parameters[\"b2\"]\n",
        "\n",
        "  dW1 = grads[\"dW1\"]\n",
        "  db1 = grads[\"db1\"]\n",
        "  dW2 = grads[\"dW2\"]\n",
        "  db2 = grads[\"db2\"]\n",
        "\n",
        "  W1 = W1 - learning_rate * dW1\n",
        "  b1 = b1 - learning_rate * db1\n",
        "  W2 = W2 - learning_rate * dW2\n",
        "  b2 = b2 - learning_rate * db2\n",
        "\n",
        "  parameters = {\"W1\": W1,\"b1\": b1,\"W2\": W2,\"b2\": b2}\n",
        "\n",
        "  return parameters"
      ],
      "execution_count": 13,
      "outputs": []
    },
    {
      "cell_type": "code",
      "metadata": {
        "id": "w6-D79rTwOJ4"
      },
      "source": [
        "def nn_model(X, Y, n_h, num_iterations = 10000, print_cost=False):\n",
        "\n",
        "  np.random.seed(3)\n",
        "  n_x = layer_sizes(X, Y)[0]\n",
        "  n_y = layer_sizes(X, Y)[2]\n",
        "\n",
        "  parameters = initialize_parameters(n_x, n_h, n_y)\n",
        "\n",
        "  for i in range(0, num_iterations):\n",
        "\n",
        "    A2, cache =  forward_propagation(X, parameters)\n",
        "\n",
        "    cost = compute_cost(A2, Y, parameters)\n",
        "\n",
        "    grads =  backward_propagation(parameters, cache, X, Y)\n",
        "\n",
        "    parameters = update_parameters(parameters, grads, learning_rate = 1.2)\n",
        "\n",
        "    if print_cost and i % 1000 == 0:\n",
        "      print (\"Cost after iteration %i: %f\" %(i, cost))\n",
        "\n",
        "  return parameters"
      ],
      "execution_count": 14,
      "outputs": []
    },
    {
      "cell_type": "code",
      "metadata": {
        "id": "RdSnGuKYwwwX"
      },
      "source": [
        "def predict(parameters, X):\n",
        "\n",
        "  A2, cache = forward_propagation(X, parameters)\n",
        "  predictions = (A2 > 0.5)\n",
        "\n",
        "  return predictions"
      ],
      "execution_count": 15,
      "outputs": []
    },
    {
      "cell_type": "code",
      "source": [],
      "metadata": {
        "id": "NUMTRsUBXZWD"
      },
      "execution_count": 15,
      "outputs": []
    }
  ]
}